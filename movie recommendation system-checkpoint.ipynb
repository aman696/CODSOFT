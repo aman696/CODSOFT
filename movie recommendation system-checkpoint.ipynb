{
 "cells": [
  {
   "cell_type": "code",
   "execution_count": 76,
   "id": "be870e2c",
   "metadata": {},
   "outputs": [
    {
     "name": "stdout",
     "output_type": "stream",
     "text": [
      "'The avengers' not found in the movie database.\n"
     ]
    }
   ],
   "source": [
    "import numpy as np  \n",
    "import ast  # For dealing with JSON-like strings\n",
    "from ast import literal_eval  # For safely evaluating literal expressions\n",
    "import pickle  # For saving and loading data\n",
    "from nltk.stem.porter import PorterStemmer  # For word stemming\n",
    "from sklearn.feature_extraction.text import CountVectorizer  # For converting text to numerical vectors\n",
    "from sklearn.metrics.pairwise import cosine_similarity  # For calculating similarity scores\n",
    "movies = pd.read_csv(r\"C:\\Users\\Aman Chaturvedi\\Downloads\\tmdb\\tmdb_5000_movies.csv\")\n",
    "credits = pd.read_csv(r\"C:\\Users\\Aman Chaturvedi\\Downloads\\tmdb\\tmdb_5000_credits.csv\")\n",
    "movies = movies.merge(credits, on='title')\n",
    "movies = movies[['movie_id', 'title', 'overview', 'genres', 'keywords', 'cast', 'crew']]\n",
    "movies.head()\n",
    "\n",
    "# Check for missing values in the dataset and remove rows with missing data\n",
    "movies.isnull().sum()\n",
    "movies.dropna(inplace=True)\n",
    "\n",
    "# Check for duplicate entries and remove them\n",
    "movies.duplicated().sum()\n",
    "\n",
    "# Extract and convert relevant information from JSON-like columns (genres, keywords, cast, crew)\n",
    "def convert(text):\n",
    "    L = []\n",
    "    for i in ast.literal_eval(text):\n",
    "        L.append(i['name'])\n",
    "    return L\n",
    "\n",
    "columns_to_convert = ['genres', 'keywords', 'cast', 'crew']\n",
    "for col in columns_to_convert:\n",
    "    movies[col] = movies[col].apply(convert)\n",
    "\n",
    "# Tokenize the 'overview' column by splitting text into words\n",
    "movies['overview'] = movies['overview'].apply(lambda x: x.split())\n",
    "\n",
    "# Create a new column 'tags' by combining information from multiple columns\n",
    "movies['tags'] = movies['overview'] + movies['genres'] + movies['keywords'] + movies['cast'] + movies['crew']\n",
    "\n",
    "# Create a new DataFrame 'new' by dropping unnecessary columns\n",
    "new = movies.drop(columns=['overview', 'genres', 'keywords', 'cast', 'crew'])\n",
    "\n",
    "# Initialize CountVectorizer and PorterStemmer for text preprocessing\n",
    "cv = CountVectorizer(max_features=5000, stop_words='english')\n",
    "ps = PorterStemmer()\n",
    "\n",
    "# Define a function to perform word stemming\n",
    "def stem(tag_list):\n",
    "    return [ps.stem(word) for word in tag_list]\n",
    "\n",
    "# Apply word stemming to the 'tags' column\n",
    "new['tags'] = new['tags'].apply(stem)\n",
    "\n",
    "# Convert the list of stemmed words into space-separated strings\n",
    "new['tags'] = new['tags'].apply(lambda x: ' '.join(x))\n",
    "\n",
    "# Create numerical vectors from the 'tags' column using CountVectorizer\n",
    "vector = cv.fit_transform(new['tags']).toarray()\n",
    "\n",
    "# Calculate cosine similarity between movie tags\n",
    "similarity = cosine_similarity(vector)\n",
    "\n",
    "# To recommend similar movies based on input movie title\n",
    "def recommend(movie):\n",
    "    # Check if the movie title exists in the DataFrame\n",
    "    if movie in new['title'].values:\n",
    "        index = new[new['title'] == movie].index[0]\n",
    "        distances = sorted(list(enumerate(similarity[index])), reverse=True, key=lambda x: x[1])\n",
    "        for i in distances[1:6]:\n",
    "            print(new.iloc[i[0]].title)\n",
    "    else:\n",
    "        print(f\"'{movie}' not found in the movie database.\")\n",
    "\n",
    "# Serialize and save data using pickle for later use\n",
    "pickle.dump(new, open('movie.pkl', 'wb'))\n",
    "pickle.dump(new.to_dict(), open('movie_dict.pkl', 'wb'))\n",
    "pickle.dump(similarity, open('similarity.pkl', 'wb'))\n",
    "recommend('The avengers')"
   ]
  },
  {
   "cell_type": "code",
   "execution_count": null,
   "id": "9c473745",
   "metadata": {},
   "outputs": [],
   "source": []
  }
 ],
 "metadata": {
  "kernelspec": {
   "display_name": "Python 3 (ipykernel)",
   "language": "python",
   "name": "python3"
  },
  "language_info": {
   "codemirror_mode": {
    "name": "ipython",
    "version": 3
   },
   "file_extension": ".py",
   "mimetype": "text/x-python",
   "name": "python",
   "nbconvert_exporter": "python",
   "pygments_lexer": "ipython3",
   "version": "3.9.13"
  }
 },
 "nbformat": 4,
 "nbformat_minor": 5
}
